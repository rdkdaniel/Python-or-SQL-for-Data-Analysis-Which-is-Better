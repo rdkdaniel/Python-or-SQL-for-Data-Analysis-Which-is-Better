{
  "nbformat": 4,
  "nbformat_minor": 0,
  "metadata": {
    "colab": {
      "name": "Data Analysis Why use SQLite3 in python",
      "provenance": [],
      "authorship_tag": "ABX9TyNCOI1Ws5BOfOfgpwLQsKO7",
      "include_colab_link": true
    },
    "kernelspec": {
      "name": "python3",
      "display_name": "Python 3"
    },
    "language_info": {
      "name": "python"
    }
  },
  "cells": [
    {
      "cell_type": "markdown",
      "metadata": {
        "id": "view-in-github",
        "colab_type": "text"
      },
      "source": [
        "<a href=\"https://colab.research.google.com/github/rdkdaniel/Python-or-SQL-for-Data-Analysis-Which-is-Better/blob/main/Data_Analysis_Why_use_SQLite3_in_python.ipynb\" target=\"_parent\"><img src=\"https://colab.research.google.com/assets/colab-badge.svg\" alt=\"Open In Colab\"/></a>"
      ]
    },
    {
      "cell_type": "code",
      "execution_count": 1,
      "metadata": {
        "id": "srToRGW0j1O3"
      },
      "outputs": [],
      "source": [
        "#Good read: https://medium.com/swlh/data-analysis-sqlite3-in-python-1868903eaee\n",
        "#What is SQLite3?\n"
      ]
    },
    {
      "cell_type": "code",
      "source": [
        "#SQLite3 is a free relational DB, with support on every programming language"
      ],
      "metadata": {
        "id": "x-Zxu7O8l-qF"
      },
      "execution_count": 2,
      "outputs": []
    },
    {
      "cell_type": "code",
      "source": [
        "#Why should I use Python & SQLite3?\n",
        "#Simply - to avoid all those CSV files!!!!\n",
        "#The average Data Science developer, will keep heaps of CSV files with data.\n",
        "#Hehehe, he then reads them one by one with Pandas, and cluster them into groups, this task is redundant, time-consuming and inefficient.\n"
      ],
      "metadata": {
        "id": "8_qyOhBCmEhd"
      },
      "execution_count": 3,
      "outputs": []
    },
    {
      "cell_type": "code",
      "source": [
        "#With Sqlite you can:\n",
        "#Create db, tables with those dbs, access them using pandas (as data frames etc)\n",
        "#All this with the convienence of a centralized repository = the DB."
      ],
      "metadata": {
        "id": "eHfbKmG8mZ3u"
      },
      "execution_count": 4,
      "outputs": []
    }
  ]
}