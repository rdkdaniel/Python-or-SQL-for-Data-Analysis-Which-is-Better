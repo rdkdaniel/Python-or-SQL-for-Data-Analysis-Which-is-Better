{
  "nbformat": 4,
  "nbformat_minor": 0,
  "metadata": {
    "colab": {
      "name": "Python-or-SQL-for-Data-Analysis-Which-is-Better?",
      "provenance": [],
      "collapsed_sections": [],
      "authorship_tag": "ABX9TyOFaB5c/yxgJ+8p2tJdQ+Cb",
      "include_colab_link": true
    },
    "kernelspec": {
      "name": "python3",
      "display_name": "Python 3"
    },
    "language_info": {
      "name": "python"
    }
  },
  "cells": [
    {
      "cell_type": "markdown",
      "metadata": {
        "id": "view-in-github",
        "colab_type": "text"
      },
      "source": [
        "<a href=\"https://colab.research.google.com/github/rdkdaniel/Python-or-SQL-for-Data-Analysis-Which-is-Better/blob/main/Python_or_SQL_for_Data_Analysis_Which_is_Better%3F.ipynb\" target=\"_parent\"><img src=\"https://colab.research.google.com/assets/colab-badge.svg\" alt=\"Open In Colab\"/></a>"
      ]
    },
    {
      "cell_type": "code",
      "execution_count": 2,
      "metadata": {
        "id": "kV1AtsqNhRJT"
      },
      "outputs": [],
      "source": [
        "#An interesting read\n",
        "#https://airbyte.com/blog/sql-vs-python-data-analysis"
      ]
    },
    {
      "cell_type": "code",
      "source": [
        "#First the performance\n",
        "#Obviously SQL is faster because its simpllicity"
      ],
      "metadata": {
        "id": "YAT9ObnThV7P"
      },
      "execution_count": 3,
      "outputs": []
    },
    {
      "cell_type": "code",
      "source": [
        "#Secondly, the functionality\n",
        "#While SQL is faster, its simplicity makes it weak\n",
        "#I mean, the same thing done in Python (a data analysis task) takes many iterative and lengthy codes/lines"
      ],
      "metadata": {
        "id": "z7knVDa2hoDm"
      },
      "execution_count": 4,
      "outputs": []
    },
    {
      "cell_type": "code",
      "source": [
        "#Thirdly, developer experiences i.e. testing, debugging and code version control\n"
      ],
      "metadata": {
        "id": "Qn2UG0ZGh_Mm"
      },
      "execution_count": 5,
      "outputs": []
    }
  ]
}